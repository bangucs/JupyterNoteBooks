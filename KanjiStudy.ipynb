{
 "cells": [
  {
   "cell_type": "code",
   "execution_count": 28,
   "metadata": {
    "collapsed": false
   },
   "outputs": [
    {
     "name": "stdout",
     "output_type": "stream",
     "text": [
      "http://kanji.jitenon.jp/kanji/002.html\n",
      "http://kanji.jitenon.jp/kanji/008.html\n",
      "http://kanji.jitenon.jp/kanji/037.html\n",
      "http://kanji.jitenon.jp/kanji/043.html\n",
      "http://kanji.jitenon.jp/kanji/048.html\n",
      "http://kanji.jitenon.jp/kanji/065.html\n",
      "http://kanji.jitenon.jp/kanji/073.html\n",
      "http://kanji.jitenon.jp/kanji/074.html\n",
      "http://kanji.jitenon.jp/kanji/082.html\n",
      "http://kanji.jitenon.jp/kanji/086.html\n",
      "http://kanji.jitenon.jp/kanji/100.html\n",
      "http://kanji.jitenon.jp/kanji/118.html\n",
      "http://kanji.jitenon.jp/kanji/119.html\n",
      "http://kanji.jitenon.jp/kanji/132.html\n",
      "http://kanji.jitenon.jp/kanji/146.html\n",
      "http://kanji.jitenon.jp/kanji/161.html\n",
      "http://kanji.jitenon.jp/kanji/229.html\n",
      "http://kanji.jitenon.jp/kanji/231.html\n",
      "http://kanji.jitenon.jp/kanji/232.html\n",
      "http://kanji.jitenon.jp/kanji/255.html\n",
      "http://kanji.jitenon.jp/kanji/257.html\n",
      "http://kanji.jitenon.jp/kanji/287.html\n",
      "http://kanji.jitenon.jp/kanji/309.html\n",
      "http://kanji.jitenon.jp/kanji/311.html\n",
      "http://kanji.jitenon.jp/kanji/317.html\n",
      "http://kanji.jitenon.jp/kanji/338.html\n",
      "http://kanji.jitenon.jp/kanji/342.html\n",
      "http://kanji.jitenon.jp/kanji/344.html\n",
      "http://kanji.jitenon.jp/kanji/348.html\n",
      "http://kanji.jitenon.jp/kanji/355.html\n",
      "http://kanji.jitenon.jp/kanji/438.html\n",
      "http://kanji.jitenon.jp/kanji/463.html\n",
      "http://kanji.jitenon.jp/kanjib/508.html\n",
      "http://kanji.jitenon.jp/kanjib/533.html\n",
      "http://kanji.jitenon.jp/kanjib/555.html\n",
      "http://kanji.jitenon.jp/kanjib/604.html\n",
      "http://kanji.jitenon.jp/kanjib/607.html\n",
      "http://kanji.jitenon.jp/kanjib/630.html\n"
     ]
    }
   ],
   "source": [
    "import urllib3\n",
    "import certifi\n",
    "from datetime import datetime\n",
    "from bs4 import BeautifulSoup\n",
    "http = urllib3.PoolManager(cert_reqs='CERT_REQUIRED', ca_certs=certifi.where())\n",
    "\n",
    "def getHTML(url):\n",
    "    print(url)\n",
    "    response = http.request('GET', url)\n",
    "    soup = BeautifulSoup(response.data, \"lxml\")\n",
    "    title = soup.find(\"h1\").prettify()\n",
    "    lines = soup.find_all(\"table\", class_=\"kanjirighttb\")\n",
    "    htmlstring = title\n",
    "    for line in lines:\n",
    "        htmlstring = htmlstring + line.prettify()\n",
    "\n",
    "    return htmlstring\n",
    "    \n",
    "f = open('onlyURLList.txt')\n",
    "lines = f.readlines() \n",
    "f.close()\n",
    " \n",
    "for line in lines:\n",
    "    url = line.replace('\\n','')    \n",
    "    with open('allKanji.html', mode='a', encoding = 'utf-8') as fw:\n",
    "        fw.write(getHTML(url))"
   ]
  },
  {
   "cell_type": "code",
   "execution_count": 12,
   "metadata": {
    "collapsed": true
   },
   "outputs": [],
   "source": []
  },
  {
   "cell_type": "code",
   "execution_count": null,
   "metadata": {
    "collapsed": true
   },
   "outputs": [],
   "source": []
  }
 ],
 "metadata": {
  "kernelspec": {
   "display_name": "Python [Root]",
   "language": "python",
   "name": "Python [Root]"
  },
  "language_info": {
   "codemirror_mode": {
    "name": "ipython",
    "version": 3
   },
   "file_extension": ".py",
   "mimetype": "text/x-python",
   "name": "python",
   "nbconvert_exporter": "python",
   "pygments_lexer": "ipython3",
   "version": "3.5.1"
  }
 },
 "nbformat": 4,
 "nbformat_minor": 0
}
