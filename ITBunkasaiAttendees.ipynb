{
 "cells": [
  {
   "cell_type": "code",
   "execution_count": 6,
   "metadata": {
    "collapsed": false,
    "scrolled": false
   },
   "outputs": [
    {
     "name": "stdout",
     "output_type": "stream",
     "text": [
      "申込者数:397(2017/10/27 08:31)\n"
     ]
    }
   ],
   "source": [
    "import urllib3\n",
    "import certifi\n",
    "from datetime import datetime\n",
    "from bs4 import BeautifulSoup\n",
    "http = urllib3.PoolManager(cert_reqs='CERT_REQUIRED', ca_certs=certifi.where())\n",
    "url = \"https://sendaiitfes.doorkeeper.jp/events/upcoming\"\n",
    "response = http.request('GET', url)\n",
    "soup = BeautifulSoup(response.data, \"lxml\")\n",
    "attendees = soup.find_all(\"span\", class_=\"events-list-item-current-registred\")\n",
    "\n",
    "allCount = 0\n",
    "for attendee in attendees:\n",
    "    index = attendee.text.find(\"人\")\n",
    "    count = int(attendee.text[0:index])\n",
    "    allCount = allCount + count\n",
    "    \n",
    "print('申込者数:{1}({0})'.format(datetime.now().strftime('%Y/%m/%d %H:%M'), allCount))"
   ]
  },
  {
   "cell_type": "code",
   "execution_count": null,
   "metadata": {
    "collapsed": true
   },
   "outputs": [],
   "source": []
  }
 ],
 "metadata": {
  "kernelspec": {
   "display_name": "Python 3",
   "language": "python",
   "name": "python3"
  },
  "language_info": {
   "codemirror_mode": {
    "name": "ipython",
    "version": 3
   },
   "file_extension": ".py",
   "mimetype": "text/x-python",
   "name": "python",
   "nbconvert_exporter": "python",
   "pygments_lexer": "ipython3",
   "version": "3.5.1"
  }
 },
 "nbformat": 4,
 "nbformat_minor": 0
}
